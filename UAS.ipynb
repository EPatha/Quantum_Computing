{
  "cells": [
    {
      "cell_type": "code",
      "execution_count": 1,
      "metadata": {
        "colab": {
          "base_uri": "https://localhost:8080/"
        },
        "id": "n-RzBHDeQ6as",
        "outputId": "bf174f19-1004-4d47-98ab-9caecf9951e8"
      },
      "outputs": [
        {
          "name": "stdout",
          "output_type": "stream",
          "text": [
            "Defaulting to user installation because normal site-packages is not writeable\n",
            "Requirement already satisfied: qiskit in /home/ep/.local/lib/python3.10/site-packages (1.3.0)\n",
            "Requirement already satisfied: rustworkx>=0.15.0 in /home/ep/.local/lib/python3.10/site-packages (from qiskit) (0.15.1)\n",
            "Requirement already satisfied: numpy<3,>=1.17 in /home/ep/.local/lib/python3.10/site-packages (from qiskit) (2.2.1)\n",
            "Requirement already satisfied: scipy>=1.5 in /home/ep/.local/lib/python3.10/site-packages (from qiskit) (1.14.1)\n",
            "Requirement already satisfied: sympy>=1.3 in /home/ep/.local/lib/python3.10/site-packages (from qiskit) (1.13.1)\n",
            "Requirement already satisfied: dill>=0.3 in /home/ep/.local/lib/python3.10/site-packages (from qiskit) (0.3.9)\n",
            "Requirement already satisfied: python-dateutil>=2.8.0 in /home/ep/.local/lib/python3.10/site-packages (from qiskit) (2.9.0.post0)\n",
            "Requirement already satisfied: stevedore>=3.0.0 in /home/ep/.local/lib/python3.10/site-packages (from qiskit) (5.4.0)\n",
            "Requirement already satisfied: typing-extensions in /home/ep/.local/lib/python3.10/site-packages (from qiskit) (4.12.2)\n",
            "Requirement already satisfied: symengine<0.14,>=0.11 in /home/ep/.local/lib/python3.10/site-packages (from qiskit) (0.13.0)\n",
            "Requirement already satisfied: six>=1.5 in /usr/lib/python3/dist-packages (from python-dateutil>=2.8.0->qiskit) (1.16.0)\n",
            "Requirement already satisfied: pbr>=2.0.0 in /home/ep/.local/lib/python3.10/site-packages (from stevedore>=3.0.0->qiskit) (6.1.0)\n",
            "Requirement already satisfied: mpmath<1.4,>=1.1.0 in /home/ep/.local/lib/python3.10/site-packages (from sympy>=1.3->qiskit) (1.3.0)\n",
            "Note: you may need to restart the kernel to use updated packages.\n"
          ]
        }
      ],
      "source": [
        "pip install qiskit"
      ]
    },
    {
      "cell_type": "code",
      "execution_count": 2,
      "metadata": {
        "colab": {
          "base_uri": "https://localhost:8080/"
        },
        "id": "c1YtlwhYRWFw",
        "outputId": "b9b994db-d1c4-46b1-e2f6-276555765f8e"
      },
      "outputs": [
        {
          "name": "stdout",
          "output_type": "stream",
          "text": [
            "Defaulting to user installation because normal site-packages is not writeable\n",
            "Requirement already satisfied: qiskit in /home/ep/.local/lib/python3.10/site-packages (1.3.0)\n",
            "Requirement already satisfied: qiskit-aer in /home/ep/.local/lib/python3.10/site-packages (0.15.1)\n",
            "Requirement already satisfied: rustworkx>=0.15.0 in /home/ep/.local/lib/python3.10/site-packages (from qiskit) (0.15.1)\n",
            "Requirement already satisfied: numpy<3,>=1.17 in /home/ep/.local/lib/python3.10/site-packages (from qiskit) (2.2.1)\n",
            "Requirement already satisfied: scipy>=1.5 in /home/ep/.local/lib/python3.10/site-packages (from qiskit) (1.14.1)\n",
            "Requirement already satisfied: sympy>=1.3 in /home/ep/.local/lib/python3.10/site-packages (from qiskit) (1.13.1)\n",
            "Requirement already satisfied: dill>=0.3 in /home/ep/.local/lib/python3.10/site-packages (from qiskit) (0.3.9)\n",
            "Requirement already satisfied: python-dateutil>=2.8.0 in /home/ep/.local/lib/python3.10/site-packages (from qiskit) (2.9.0.post0)\n",
            "Requirement already satisfied: stevedore>=3.0.0 in /home/ep/.local/lib/python3.10/site-packages (from qiskit) (5.4.0)\n",
            "Requirement already satisfied: typing-extensions in /home/ep/.local/lib/python3.10/site-packages (from qiskit) (4.12.2)\n",
            "Requirement already satisfied: symengine<0.14,>=0.11 in /home/ep/.local/lib/python3.10/site-packages (from qiskit) (0.13.0)\n",
            "Requirement already satisfied: psutil>=5 in /home/ep/.local/lib/python3.10/site-packages (from qiskit-aer) (6.1.0)\n",
            "Requirement already satisfied: six>=1.5 in /usr/lib/python3/dist-packages (from python-dateutil>=2.8.0->qiskit) (1.16.0)\n",
            "Requirement already satisfied: pbr>=2.0.0 in /home/ep/.local/lib/python3.10/site-packages (from stevedore>=3.0.0->qiskit) (6.1.0)\n",
            "Requirement already satisfied: mpmath<1.4,>=1.1.0 in /home/ep/.local/lib/python3.10/site-packages (from sympy>=1.3->qiskit) (1.3.0)\n"
          ]
        }
      ],
      "source": [
        "!pip install qiskit qiskit-aer\n"
      ]
    },
    {
      "cell_type": "code",
      "execution_count": 3,
      "metadata": {
        "colab": {
          "base_uri": "https://localhost:8080/"
        },
        "id": "6jBu9lJkWuU9",
        "outputId": "352ac9f8-9470-4b71-b99c-08f1b7b5ce9c"
      },
      "outputs": [
        {
          "name": "stdout",
          "output_type": "stream",
          "text": [
            "Name: qiskit\n",
            "Version: 1.3.0\n",
            "Summary: An open-source SDK for working with quantum computers at the level of extended quantum circuits, operators, and primitives.\n",
            "Home-page: https://www.ibm.com/quantum/qiskit\n",
            "Author: \n",
            "Author-email: Qiskit Development Team <qiskit@us.ibm.com>\n",
            "License: Apache 2.0\n",
            "Location: /home/ep/.local/lib/python3.10/site-packages\n",
            "Requires: dill, numpy, python-dateutil, rustworkx, scipy, stevedore, symengine, sympy, typing-extensions\n",
            "Required-by: qiskit-aer\n",
            "---\n",
            "Name: qiskit-aer\n",
            "Version: 0.15.1\n",
            "Summary: Aer - High performance simulators for Qiskit\n",
            "Home-page: https://github.com/Qiskit/qiskit-aer\n",
            "Author: AER Development Team\n",
            "Author-email: qiskit@us.ibm.com\n",
            "License: Apache 2.0\n",
            "Location: /home/ep/.local/lib/python3.10/site-packages\n",
            "Requires: numpy, psutil, qiskit, scipy\n",
            "Required-by: \n"
          ]
        }
      ],
      "source": [
        "!pip show qiskit qiskit-aer\n"
      ]
    },
    {
      "cell_type": "code",
      "execution_count": 4,
      "metadata": {
        "colab": {
          "base_uri": "https://localhost:8080/"
        },
        "id": "65ay9W5OSD4C",
        "outputId": "61627c0d-d435-4da5-8a76-63b06417ad7e"
      },
      "outputs": [
        {
          "name": "stdout",
          "output_type": "stream",
          "text": [
            "AerSimulator is installed successfully.\n"
          ]
        }
      ],
      "source": [
        "from qiskit_aer import AerSimulator\n",
        "print(\"AerSimulator is installed successfully.\")\n"
      ]
    },
    {
      "cell_type": "code",
      "execution_count": 5,
      "metadata": {
        "colab": {
          "base_uri": "https://localhost:8080/",
          "height": 628
        },
        "id": "BoIzwefYQglW",
        "outputId": "17afbad0-0bc5-4eac-defb-7e81bf25ebff"
      },
      "outputs": [
        {
          "ename": "ModuleNotFoundError",
          "evalue": "No module named 'pennylane'",
          "output_type": "error",
          "traceback": [
            "\u001b[0;31m---------------------------------------------------------------------------\u001b[0m",
            "\u001b[0;31mModuleNotFoundError\u001b[0m                       Traceback (most recent call last)",
            "Cell \u001b[0;32mIn[5], line 3\u001b[0m\n\u001b[1;32m      1\u001b[0m \u001b[38;5;66;03m# Quantum Support Vector Machine (QSVM) with Iris Dataset\u001b[39;00m\n\u001b[0;32m----> 3\u001b[0m \u001b[38;5;28;01mimport\u001b[39;00m \u001b[38;5;21;01mpennylane\u001b[39;00m \u001b[38;5;28;01mas\u001b[39;00m \u001b[38;5;21;01mqml\u001b[39;00m\n\u001b[1;32m      4\u001b[0m \u001b[38;5;28;01mfrom\u001b[39;00m \u001b[38;5;21;01mpennylane\u001b[39;00m \u001b[38;5;28;01mimport\u001b[39;00m numpy \u001b[38;5;28;01mas\u001b[39;00m np\n\u001b[1;32m      5\u001b[0m \u001b[38;5;28;01mfrom\u001b[39;00m \u001b[38;5;21;01msklearn\u001b[39;00m\u001b[38;5;21;01m.\u001b[39;00m\u001b[38;5;21;01mdatasets\u001b[39;00m \u001b[38;5;28;01mimport\u001b[39;00m load_iris\n",
            "\u001b[0;31mModuleNotFoundError\u001b[0m: No module named 'pennylane'"
          ]
        }
      ],
      "source": [
        "# Quantum Support Vector Machine (QSVM) with Iris Dataset\n",
        "\n",
        "import pennylane as qml\n",
        "from pennylane import numpy as np\n",
        "from sklearn.datasets import load_iris\n",
        "from sklearn.model_selection import train_test_split\n",
        "from sklearn.preprocessing import StandardScaler, LabelEncoder\n",
        "from sklearn.svm import SVC\n",
        "\n",
        "# Load the Iris dataset\n",
        "data = load_iris()\n",
        "X = data.data[:100, :2]  # Use only the first two features and first two classes\n",
        "y = data.target[:100]\n",
        "\n",
        "# Encode labels to 0 and 1\n",
        "le = LabelEncoder()\n",
        "y = le.fit_transform(y)\n",
        "\n",
        "# Split into train and test sets\n",
        "X_train, X_test, y_train, y_test = train_test_split(X, y, test_size=0.3, random_state=42)\n",
        "\n",
        "# Standardize the features\n",
        "scaler = StandardScaler()\n",
        "X_train = scaler.fit_transform(X_train)\n",
        "X_test = scaler.transform(X_test)\n",
        "\n",
        "# Quantum kernel definition\n",
        "n_qubits = 2\n",
        "dev = qml.device(\"default.qubit\", wires=n_qubits)\n",
        "\n",
        "def quantum_kernel(x1, x2):\n",
        "    \"\"\"Quantum Kernel using a simple feature map.\"\"\"\n",
        "    @qml.qnode(dev)\n",
        "    def kernel_circuit(x1, x2):\n",
        "        # Encode the first vector\n",
        "        for i in range(n_qubits):\n",
        "            qml.RY(x1[i], wires=i)\n",
        "        \n",
        "        # Encode the second vector\n",
        "        for i in range(n_qubits):\n",
        "            qml.RY(-x2[i], wires=i)\n",
        "\n",
        "        # Apply an entangling layer\n",
        "        for i in range(n_qubits - 1):\n",
        "            qml.CZ(wires=[i, i + 1])\n",
        "\n",
        "        return qml.probs(wires=[0])\n",
        "\n",
        "    return kernel_circuit(x1, x2)[0]\n",
        "\n",
        "# Precompute the kernel matrix\n",
        "X_train_q = [qml.math.cast(x, float) for x in X_train]\n",
        "X_test_q = [qml.math.cast(x, float) for x in X_test]\n",
        "\n",
        "n_train = len(X_train)\n",
        "k_train = np.zeros((n_train, n_train))\n",
        "\n",
        "for i in range(n_train):\n",
        "    for j in range(n_train):\n",
        "        k_train[i, j] = quantum_kernel(X_train_q[i], X_train_q[j])\n",
        "\n",
        "# Train the classical SVM with quantum kernel\n",
        "svm = SVC(kernel='precomputed')\n",
        "svm.fit(k_train, y_train)\n",
        "\n",
        "# Compute the kernel matrix for test data\n",
        "n_test = len(X_test)\n",
        "k_test = np.zeros((n_test, n_train))\n",
        "\n",
        "for i in range(n_test):\n",
        "    for j in range(n_train):\n",
        "        k_test[i, j] = quantum_kernel(X_test_q[i], X_train_q[j])\n",
        "\n",
        "# Evaluate the model\n",
        "accuracy = svm.score(k_test, y_test)\n",
        "print(f\"Accuracy: {accuracy * 100:.2f}%\")\n"
      ]
    }
  ],
  "metadata": {
    "colab": {
      "provenance": []
    },
    "kernelspec": {
      "display_name": "Python 3",
      "name": "python3"
    },
    "language_info": {
      "codemirror_mode": {
        "name": "ipython",
        "version": 3
      },
      "file_extension": ".py",
      "mimetype": "text/x-python",
      "name": "python",
      "nbconvert_exporter": "python",
      "pygments_lexer": "ipython3",
      "version": "3.10.12"
    }
  },
  "nbformat": 4,
  "nbformat_minor": 0
}
